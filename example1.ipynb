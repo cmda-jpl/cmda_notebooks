{
 "cells": [
  {
   "cell_type": "markdown",
   "metadata": {},
   "source": [
    "# Topic 1: Where is the global warming?"
   ]
  },
  {
   "cell_type": "markdown",
   "metadata": {},
   "source": [
    "### Question 1: Calculate the global net radiative flux imbalance at TOA"
   ]
  },
  {
   "cell_type": "markdown",
   "metadata": {},
   "source": [
    "Net radiative flux at TOA is calculated from:\n",
    "\n",
    "$$\\Delta F=F^{\\downarrow}_{SW} - F^{\\uparrow}_{SW} - F^{\\uparrow}_{LW}$$\n",
    "\n",
    "Where $F^{\\downarrow}_{SW}-F^{\\uparrow}_{SW}$ is the net incoming shortwave radiation and $F^{\\uparrow}_{LW}$ is the outgoing longwave radiation at TOA respectively. First, let's load the CERES net radiative flux at each timestep:"
   ]
  },
  {
   "cell_type": "code",
   "execution_count": null,
   "metadata": {},
   "outputs": [],
   "source": [
    "from cmda import ServiceViewer\n",
    "import numpy as np\n",
    "import panel as pn\n",
    "pn.extension()\n",
    "app = ServiceViewer()\n",
    "rsdt = app.open_url('https://jpl-cmda.org/svc/universalPlotting6b?vars=rsdt&datasets=/mnt/data/data_clean/cmip5/nasa/ceres/rsdt_CERES-EBAF_L3B_Ed2-6r_200003-201206.nc&lonMethod=3,3,3&lonS=0,0,0&lonE=360,360,360&latMethod=3,3,3&latS=-90,-90,-90&latE=90,90,90&presMethod=0,0,0&presS=500,500,500&presE=800,800,800&timeMethod=3,3,3&timeS=2000-03-16,2000-03-16,2000-03-16&timeE=2012-06-16,2012-06-16,2012-06-16&ferretLevel=10&colorMap=rainbow&plotTitle=&anomaly=0&climatology=undefined&timeMean=&purpose=&service=linear&basin=&userId=&serviceId=&coeff=0.0,1.0&fromPage=https://api.jpl-cmda.org/cmda.html')\n",
    "rsut = app.open_url('https://jpl-cmda.org/svc/universalPlotting6b?vars=rsut&datasets=/mnt/data/data_clean/cmip5/nasa/ceres/rsut_CERES-EBAF_L3B_Ed2-6r_200003-201206.nc&lonMethod=3,3,3&lonS=0,0,0&lonE=360,360,360&latMethod=3,3,3&latS=-90,-90,-90&latE=90,90,90&presMethod=0,0,0&presS=500,500,500&presE=800,800,800&timeMethod=3,3,3&timeS=2000-03-16,2000-03-16,2000-03-16&timeE=2012-06-16,2012-06-16,2012-06-16&ferretLevel=10&colorMap=rainbow&plotTitle=&anomaly=0&climatology=undefined&timeMean=&purpose=&service=linear&basin=&userId=&serviceId=&coeff=0.0,1.0&fromPage=https://api.jpl-cmda.org/cmda.html')\n",
    "rlut = app.open_url('https://jpl-cmda.org/svc/universalPlotting6b?vars=rlut&datasets=/mnt/data/data_clean/cmip5/nasa/ceres/rlut_CERES-EBAF_L3B_Ed2-6r_200003-201206.nc&lonMethod=3,3,3&lonS=0,0,0&lonE=360,360,360&latMethod=3,3,3&latS=-90,-90,-90&latE=90,90,90&presMethod=0,0,0&presS=500,500,500&presE=800,800,800&timeMethod=3,3,3&timeS=2000-03-16,2000-03-16,2000-03-16&timeE=2012-06-16,2012-06-16,2012-06-16&ferretLevel=10&colorMap=rainbow&plotTitle=&anomaly=0&climatology=undefined&timeMean=&purpose=&service=linear&basin=&userId=&serviceId=&coeff=0.0,1.0&fromPage=https://api.jpl-cmda.org/cmda.html')\n",
    "rad = rsdt.DATA99 - rsut.DATA99 - rlut.DATA99\n",
    "rad"
   ]
  },
  {
   "cell_type": "markdown",
   "metadata": {},
   "source": [
    "First, let's derive a time series."
   ]
  },
  {
   "cell_type": "code",
   "execution_count": null,
   "metadata": {},
   "outputs": [],
   "source": [
    "rad_ts = rad.weighted(np.cos(np.deg2rad(rad.LAT))).mean(('LON', 'LAT'))\n",
    "rad_ts.name = 'rad_net'\n",
    "rad_ts"
   ]
  },
  {
   "cell_type": "code",
   "execution_count": null,
   "metadata": {},
   "outputs": [],
   "source": [
    "rad_ts.hvplot(x='TIME')"
   ]
  },
  {
   "cell_type": "markdown",
   "metadata": {},
   "source": [
    "The mean net radiative imbalance is thus:"
   ]
  },
  {
   "cell_type": "code",
   "execution_count": null,
   "metadata": {},
   "outputs": [],
   "source": [
    "rad_ts.mean()"
   ]
  }
 ],
 "metadata": {
  "kernelspec": {
   "display_name": "Python 3",
   "language": "python",
   "name": "python3"
  },
  "language_info": {
   "codemirror_mode": {
    "name": "ipython",
    "version": 3
   },
   "file_extension": ".py",
   "mimetype": "text/x-python",
   "name": "python",
   "nbconvert_exporter": "python",
   "pygments_lexer": "ipython3",
   "version": "3.7.10"
  }
 },
 "nbformat": 4,
 "nbformat_minor": 4
}
