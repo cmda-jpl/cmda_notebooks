{
 "cells": [
  {
   "cell_type": "code",
   "execution_count": null,
   "metadata": {},
   "outputs": [],
   "source": [
    "import numpy as np\n",
    "import numpy.ma as ma\n",
    "import gudhi as gd\n",
    "from gudhi.wasserstein import wasserstein_distance as wd\n",
    "from netCDF4 import Dataset\n",
    "import matplotlib.pyplot as plt\n",
    "import sys\n",
    "import os\n",
    "from glob import glob"
   ]
  },
  {
   "cell_type": "code",
   "execution_count": null,
   "metadata": {},
   "outputs": [],
   "source": [
    "def extract_PD_arrays_with_cubical_complex(data, infinity = 300.):\n",
    "    cubical_complex = gd.CubicalComplex(top_dimensional_cells=data)\n",
    "    PD_CC = cubical_complex.persistence()\n",
    "    dim = np.array([i[0] for i in PD_CC])\n",
    "    birth = np.array([i[1][0] for i in PD_CC])\n",
    "    death = np.array([i[1][1] for i in PD_CC])\n",
    "    death[death==np.Infinity] = data.max()\n",
    "    n0 = dim[dim==0].size\n",
    "    n1 = dim[dim==1].size\n",
    "    pd0 = np.zeros([n0, 2])\n",
    "    pd1 = np.zeros([n1, 2])\n",
    "    pd0[:,0] = birth[dim==0]\n",
    "    pd0[:,1] = death[dim==0]\n",
    "    pd1[:,0] = birth[dim==1]\n",
    "    pd1[:,1] = death[dim==1]\n",
    "    return pd0, pd1"
   ]
  },
  {
   "cell_type": "code",
   "execution_count": null,
   "metadata": {},
   "outputs": [],
   "source": [
    "def calculate_wasserstein_distance(pd0_array1, pd0_array2, pd1_array1, pd1_array2, order=2):\n",
    "    return wd(pd0_array1, pd0_array2, order=order) + wd(pd1_array1, pd1_array2, order=order)"
   ]
  },
  {
   "cell_type": "code",
   "execution_count": null,
   "metadata": {},
   "outputs": [],
   "source": [
    "def plot_PD (pd0, pd1, data_min, data_max):\n",
    "    fig = plt.figure()\n",
    "    ax = fig.add_subplot(111)\n",
    "    ax.scatter(pd0[:,0], pd0[:,1], color='r', s=7, label='0')\n",
    "    ax.scatter(pd1[:,0], pd1[:,1], marker='^', s=5, facecolors='none', edgecolor='blue', label='1')\n",
    "    ax.set_xlim([data_min*0.95, data_max*1.05])\n",
    "    ax.set_ylim([data_min*0.95, data_max*1.05])\n",
    "    ax.set_xlabel('Birth')\n",
    "    ax.set_ylabel('Death')\n",
    "    ax.legend(loc='lower right')\n",
    "    plt.show()"
   ]
  },
  {
   "cell_type": "code",
   "execution_count": null,
   "metadata": {},
   "outputs": [],
   "source": [
    "# TDA target\n",
    "domain = 'EUR-11'     # AFR-44, EUR-11, NAM-44\n",
    "variable = 'pr'       # pr, rlut, rsds\n",
    "season = 'annual'     # annual, summer, winter\n"
   ]
  },
  {
   "cell_type": "code",
   "execution_count": null,
   "metadata": {},
   "outputs": [],
   "source": [
    "cwd = os.getcwd()\n",
    "if variable == 'pr':\n",
    "    ref_name = 'TRMM-L3'\n",
    "elif variable == 'rlut':\n",
    "    ref_name = 'CERES-EBAF'\n",
    "elif variable == 'rsds':\n",
    "    ref_name = 'CERES-EBAF'\n",
    "else:\n",
    "    sys.exit('variable must be pr, rlut, or rsds')\n",
    "datadir = cwd +'/evaluation_result/'+domain+'/'+ref_name+'/'+variable+'/'+season+'/'    "
   ]
  },
  {
   "cell_type": "code",
   "execution_count": null,
   "metadata": {},
   "outputs": [],
   "source": [
    "ref_file = datadir+domain[0:3]+'_'+season+'_'+variable+'_'+ref_name+'.nc'\n",
    "model_files = glob(datadir+domain[0:3]+'_'+season+'_'+variable+'*.nc')\n",
    "model_files = [file for file in model_files if file != ref_file]\n",
    "model_files.sort()\n",
    "nmodel = len(model_files)"
   ]
  },
  {
   "cell_type": "code",
   "execution_count": null,
   "metadata": {},
   "outputs": [],
   "source": [
    "prefix = os.path.commonprefix(model_files)\n",
    "model_names = [i.replace(prefix,'')[:-3] for i in model_files]\n",
    "print(model_names)\n",
    "               "
   ]
  },
  {
   "cell_type": "code",
   "execution_count": null,
   "metadata": {},
   "outputs": [],
   "source": [
    "print('Reading subset datasets from '+datadir)    \n",
    "f0 = Dataset(ref_file)\n",
    "ref_data = ma.mean(f0.variables[variable][:], axis=0)\n",
    "ref0, ref1 = extract_PD_arrays_with_cubical_complex(ref_data, infinity=ref_data.max())\n",
    "plot_PD (ref0, ref1, data_min=ref_data.min(), data_max=ref_data.max())"
   ]
  },
  {
   "cell_type": "code",
   "execution_count": null,
   "metadata": {},
   "outputs": [],
   "source": [
    "for imodel, model_file in enumerate(model_files):\n",
    "    f1 = Dataset(model_file)\n",
    "    model_data = ma.mean(f1.variables[variable][:], axis=0)\n",
    "    model0, model1 = extract_PD_arrays_with_cubical_complex(model_data, infinity=ref_data.max())\n",
    "    print(model_names[imodel], ' W2 is %f10.3' %calculate_wasserstein_distance(ref0, model0, ref1, model1, order=2))\n",
    "    plot_PD (model0, model1, data_min=ref_data.min(), data_max=ref_data.max())"
   ]
  },
  {
   "cell_type": "code",
   "execution_count": null,
   "metadata": {},
   "outputs": [],
   "source": []
  },
  {
   "cell_type": "code",
   "execution_count": null,
   "metadata": {},
   "outputs": [],
   "source": []
  }
 ],
 "metadata": {
  "kernelspec": {
   "display_name": "Python 3",
   "language": "python",
   "name": "python3"
  },
  "language_info": {
   "codemirror_mode": {
    "name": "ipython",
    "version": 3
   },
   "file_extension": ".py",
   "mimetype": "text/x-python",
   "name": "python",
   "nbconvert_exporter": "python",
   "pygments_lexer": "ipython3",
   "version": "3.6.13"
  }
 },
 "nbformat": 4,
 "nbformat_minor": 4
}
